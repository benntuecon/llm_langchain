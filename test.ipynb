{
 "cells": [
  {
   "cell_type": "code",
   "execution_count": 32,
   "metadata": {},
   "outputs": [],
   "source": [
    "from langchain.llms import OpenAI\n",
    "from langchain.prompts import PromptTemplate\n",
    "from langchain.document_loaders import YoutubeLoader\n",
    "from langchain.chains import LLMChain\n",
    "from langchain.chains.summarize import load_summarize_chain\n",
    "from langchain.text_splitter import RecursiveCharacterTextSplitter\n",
    "from langchain.vectorstores import Chroma\n",
    "from langchain.embeddings.openai import OpenAIEmbeddings\n",
    "\n",
    "embeddings = OpenAIEmbeddings()\n",
    "\n",
    "\n",
    "from argparse import ArgumentParser\n",
    "from dotenv import load_dotenv\n",
    "import os\n",
    "\n",
    "load_dotenv()\n",
    "\n",
    "yt_url = 'https://www.youtube.com/watch?v=oF2hYNS9NqA&ab_channel=AaronKengAvar'\n",
    "\n",
    "llm = OpenAI(temperature=0.9)"
   ]
  },
  {
   "cell_type": "code",
   "execution_count": 29,
   "metadata": {},
   "outputs": [],
   "source": [
    "yt_url_validators = [\n",
    "    lambda url: url.startswith('https://www.youtube.com/watch?v='),\n",
    "    lambda url: url.startswith('https://youtu.be/'),\n",
    "]\n",
    "\n",
    "def is_valid_youtube_url(url):\n",
    "    return any(validator(url) for validator in yt_url_validators)\n",
    "\n",
    "\n",
    "if not is_valid_youtube_url(yt_url):\n",
    "    raise ValueError('Invalid youtube url')\n",
    "    \n",
    "yt_loader = YoutubeLoader.from_youtube_url(yt_url)\n",
    "\n",
    "result = yt_loader.load()\n"
   ]
  },
  {
   "cell_type": "code",
   "execution_count": 34,
   "metadata": {},
   "outputs": [
    {
     "name": "stdout",
     "output_type": "stream",
     "text": [
      "1\n",
      "right now it doesn't matter where you grow up parents always like tell their kids the same things right parents always say hey finish your food because they are starving children in africa how can parents never say the other way around hey don't finish your food because there are fat kids in america [Music] another thing parents tell the kids this guy telling his son hey don't tell lies if not your nose will grow longer i'm like wow that guy just taught his kid not to lie by lying to him there's some inception and parents say these things they think their kids will just believe it right but uh kids these days are not that innocent for example the other day my five-year-old niece she asked her dad where do babies come from and her dad just said oh babies come from heaven but my five-year-old niece she goes and googles this stuff and then she sends me this text message omg my dad is a he doesn't even know about sex that means he's not my real dad i got the message i'm like oh no should i tell her the truth and i thought you know what i'm not her dad it's not my job to teach her these things in fact my job is to be a comedian so i just texted back yes you're adopted and then she had to google that but i also had awkward situations growing up you know for example when i was 15 years old my friend gave me condoms just as a prank oh i put the condoms aside because i was only 15. and we chinese guys we don't hit puberty until 29. by 15 years old me my me and my friends we were learning karate from my friend mike and mike he was a black belt and karate and the rest of us learning from him were like beginner yellow belts you know and because it was an informal class we didn't have all the colors in between so those karate sessions were kind of like a wiz khalifa rap song black and yellow black and yellow so i was learning karate but my mom can be overprotective so i didn't tell my mom that i was doing character and then one day my mom she finds the condoms so my mom came up to me and said boy i found your protection have you been doing it no i didn't know she was talking about condoms i thought she found my groin protector so i said oh yes mom i do it after school every day oh mom you should come and watch i can show you some of my moves my mom was like what you are too young to do stuff like this i'm not too young mike has been doing it since he was 10 years old and he had to pay to do it i get to do it for free my mom is shocked she's like who's your partner i don't have a regular partner we do it in groups we saw partners now my mom is really freaking out how many girls have you done this with what girls i do it with guys most of them are yellow but one of them is black hey it's jinx yo thanks for watching and if you enjoy my comedy and you want to catch me perform at a live show where i do different material that i don't post online then go to my website jinxyo.com because over there i have a list of my upcoming shows so you can find out when i'll be performing in your city so go to my website jinxyo.com i'll see you at the show and i'm on my way ouch\n"
     ]
    },
    {
     "data": {
      "text/plain": [
       "[Document(page_content=\"right now it doesn't matter where you grow up parents always like tell their kids the same things right parents always say hey finish your food because they are starving children in africa how can parents never say the other way around hey don't finish your food because there are fat kids in america [Music] another thing parents tell the kids this guy telling his son hey don't tell lies if not your nose will grow longer i'm like wow that guy just taught his kid not to lie by lying to him there's\", metadata={'source': 'oF2hYNS9NqA&ab_channel=AaronKengAvar'}),\n",
       " Document(page_content=\"some inception and parents say these things they think their kids will just believe it right but uh kids these days are not that innocent for example the other day my five-year-old niece she asked her dad where do babies come from and her dad just said oh babies come from heaven but my five-year-old niece she goes and googles this stuff and then she sends me this text message omg my dad is a he doesn't even know about sex that means he's not my real dad i got the message i'm like oh no should i\", metadata={'source': 'oF2hYNS9NqA&ab_channel=AaronKengAvar'}),\n",
       " Document(page_content=\"tell her the truth and i thought you know what i'm not her dad it's not my job to teach her these things in fact my job is to be a comedian so i just texted back yes you're adopted and then she had to google that but i also had awkward situations growing up you know for example when i was 15 years old my friend gave me condoms just as a prank oh i put the condoms aside because i was only 15. and we chinese guys we don't hit puberty until 29. by 15 years old me my me and my friends we were\", metadata={'source': 'oF2hYNS9NqA&ab_channel=AaronKengAvar'}),\n",
       " Document(page_content=\"learning karate from my friend mike and mike he was a black belt and karate and the rest of us learning from him were like beginner yellow belts you know and because it was an informal class we didn't have all the colors in between so those karate sessions were kind of like a wiz khalifa rap song black and yellow black and yellow so i was learning karate but my mom can be overprotective so i didn't tell my mom that i was doing character and then one day my mom she finds the condoms so my mom\", metadata={'source': 'oF2hYNS9NqA&ab_channel=AaronKengAvar'}),\n",
       " Document(page_content=\"came up to me and said boy i found your protection have you been doing it no i didn't know she was talking about condoms i thought she found my groin protector so i said oh yes mom i do it after school every day oh mom you should come and watch i can show you some of my moves my mom was like what you are too young to do stuff like this i'm not too young mike has been doing it since he was 10 years old and he had to pay to do it i get to do it for free my mom is shocked she's like who's your\", metadata={'source': 'oF2hYNS9NqA&ab_channel=AaronKengAvar'}),\n",
       " Document(page_content=\"partner i don't have a regular partner we do it in groups we saw partners now my mom is really freaking out how many girls have you done this with what girls i do it with guys most of them are yellow but one of them is black hey it's jinx yo thanks for watching and if you enjoy my comedy and you want to catch me perform at a live show where i do different material that i don't post online then go to my website jinxyo.com because over there i have a list of my upcoming shows so you can find out\", metadata={'source': 'oF2hYNS9NqA&ab_channel=AaronKengAvar'}),\n",
       " Document(page_content=\"when i'll be performing in your city so go to my website jinxyo.com i'll see you at the show and i'm on my way ouch\", metadata={'source': 'oF2hYNS9NqA&ab_channel=AaronKengAvar'})]"
      ]
     },
     "execution_count": 34,
     "metadata": {},
     "output_type": "execute_result"
    }
   ],
   "source": [
    "print(len(result))\n",
    "\n",
    "print(result[0].dict()['page_content'])\n",
    "\n",
    "splitter = RecursiveCharacterTextSplitter(chunk_size=500, chunk_overlap=0)\n",
    "\n",
    "chunks = splitter.split_documents(result)\n",
    "chunks\n"
   ]
  },
  {
   "cell_type": "code",
   "execution_count": 36,
   "metadata": {},
   "outputs": [
    {
     "name": "stdout",
     "output_type": "stream",
     "text": [
      "\n",
      "\n",
      "\u001b[1m> Entering new MapReduceDocumentsChain chain...\u001b[0m\n",
      "Prompt after formatting:\n",
      "\u001b[32;1m\u001b[1;3mWrite a concise summary of the following:\n",
      "\n",
      "\n",
      "\"right now it doesn't matter where you grow up parents always like tell their kids the same things right parents always say hey finish your food because they are starving children in africa how can parents never say the other way around hey don't finish your food because there are fat kids in america [Music] another thing parents tell the kids this guy telling his son hey don't tell lies if not your nose will grow longer i'm like wow that guy just taught his kid not to lie by lying to him there's\"\n",
      "\n",
      "\n",
      "CONCISE SUMMARY:\u001b[0m\n",
      "Prompt after formatting:\n",
      "\u001b[32;1m\u001b[1;3mWrite a concise summary of the following:\n",
      "\n",
      "\n",
      "\"some inception and parents say these things they think their kids will just believe it right but uh kids these days are not that innocent for example the other day my five-year-old niece she asked her dad where do babies come from and her dad just said oh babies come from heaven but my five-year-old niece she goes and googles this stuff and then she sends me this text message omg my dad is a he doesn't even know about sex that means he's not my real dad i got the message i'm like oh no should i\"\n",
      "\n",
      "\n",
      "CONCISE SUMMARY:\u001b[0m\n",
      "Prompt after formatting:\n",
      "\u001b[32;1m\u001b[1;3mWrite a concise summary of the following:\n",
      "\n",
      "\n",
      "\"tell her the truth and i thought you know what i'm not her dad it's not my job to teach her these things in fact my job is to be a comedian so i just texted back yes you're adopted and then she had to google that but i also had awkward situations growing up you know for example when i was 15 years old my friend gave me condoms just as a prank oh i put the condoms aside because i was only 15. and we chinese guys we don't hit puberty until 29. by 15 years old me my me and my friends we were\"\n",
      "\n",
      "\n",
      "CONCISE SUMMARY:\u001b[0m\n",
      "Prompt after formatting:\n",
      "\u001b[32;1m\u001b[1;3mWrite a concise summary of the following:\n",
      "\n",
      "\n",
      "\"learning karate from my friend mike and mike he was a black belt and karate and the rest of us learning from him were like beginner yellow belts you know and because it was an informal class we didn't have all the colors in between so those karate sessions were kind of like a wiz khalifa rap song black and yellow black and yellow so i was learning karate but my mom can be overprotective so i didn't tell my mom that i was doing character and then one day my mom she finds the condoms so my mom\"\n",
      "\n",
      "\n",
      "CONCISE SUMMARY:\u001b[0m\n",
      "Prompt after formatting:\n",
      "\u001b[32;1m\u001b[1;3mWrite a concise summary of the following:\n",
      "\n",
      "\n",
      "\"came up to me and said boy i found your protection have you been doing it no i didn't know she was talking about condoms i thought she found my groin protector so i said oh yes mom i do it after school every day oh mom you should come and watch i can show you some of my moves my mom was like what you are too young to do stuff like this i'm not too young mike has been doing it since he was 10 years old and he had to pay to do it i get to do it for free my mom is shocked she's like who's your\"\n",
      "\n",
      "\n",
      "CONCISE SUMMARY:\u001b[0m\n",
      "Prompt after formatting:\n",
      "\u001b[32;1m\u001b[1;3mWrite a concise summary of the following:\n",
      "\n",
      "\n",
      "\"partner i don't have a regular partner we do it in groups we saw partners now my mom is really freaking out how many girls have you done this with what girls i do it with guys most of them are yellow but one of them is black hey it's jinx yo thanks for watching and if you enjoy my comedy and you want to catch me perform at a live show where i do different material that i don't post online then go to my website jinxyo.com because over there i have a list of my upcoming shows so you can find out\"\n",
      "\n",
      "\n",
      "CONCISE SUMMARY:\u001b[0m\n",
      "Prompt after formatting:\n",
      "\u001b[32;1m\u001b[1;3mWrite a concise summary of the following:\n",
      "\n",
      "\n",
      "\"when i'll be performing in your city so go to my website jinxyo.com i'll see you at the show and i'm on my way ouch\"\n",
      "\n",
      "\n",
      "CONCISE SUMMARY:\u001b[0m\n",
      "\n",
      "\n",
      "\u001b[1m> Entering new StuffDocumentsChain chain...\u001b[0m\n",
      "\n",
      "\n",
      "\u001b[1m> Entering new LLMChain chain...\u001b[0m\n",
      "Prompt after formatting:\n",
      "\u001b[32;1m\u001b[1;3mWrite a concise summary of the following:\n",
      "\n",
      "\n",
      "\"Parents often tell their children the same things, such as to finish their food because there are starving children in other countries, or not to lie or their nose will grow longer. In the example given, the parent is actually lying to their child.\n",
      "\n",
      " A parent was surprised when their five-year-old niece asked where babies came from, then asked if her dad was her \"real dad\" after being told babies come from heaven. The parent was shocked that the child was not as naive as they initially believed.\n",
      "\n",
      " A comedian was asked if someone was adopted, so he texted back yes, and the person had to google the meaning. The comedian then shared an awkward situation from their childhood, when a friend gave him condoms as a prank, despite not having hit puberty yet.\n",
      "\n",
      "\n",
      "A person was learning karate from a black belt friend, Mike, in an informal class. However, their overprotective mother found the condoms and assumed they were participating in a Karate class which the person was not telling her about.\n",
      "\n",
      " The protagonist was confused when their mother came up to them and said they found their protection, thinking they were referring to their groin protector. When they said they have been doing it every day after school, their mother was shocked and asked who Mike was, as he had apparently been doing it since he was 10 and had to pay for it - the protagonist gets to do it for free.\n",
      "\n",
      " Jinx is a comedian who performs live shows with different material than what he posts online. He has done comedy with a mostly yellow group of guys, as well as with one black guy. To find out where his upcoming shows are located, visit his website at jinxyo.com.\n",
      "\n",
      "\n",
      "Jinxyo is performing in the city. People should visit Jinxyo's website jinxyo.com and attend the show. Jinxyo is on their way and can't wait to see everyone there.\"\n",
      "\n",
      "\n",
      "CONCISE SUMMARY:\u001b[0m\n",
      "\n",
      "\u001b[1m> Finished chain.\u001b[0m\n",
      "\n",
      "\u001b[1m> Finished chain.\u001b[0m\n",
      "\n",
      "\u001b[1m> Finished chain.\u001b[0m\n"
     ]
    },
    {
     "data": {
      "text/plain": [
       "' Jinx, a comedian, is performing in the city. People can find out where his upcoming shows are located by visiting his website at jinxyo.com and attending the show. The story also details a humorous situation involving a five-year-old, condoms, karate and an overprotective parent.'"
      ]
     },
     "execution_count": 36,
     "metadata": {},
     "output_type": "execute_result"
    }
   ],
   "source": [
    "# chain = load_summarize_chain(\n",
    "#     llm = llm,\n",
    "#     chain_type='map_reduce',\n",
    "#     verbose=True,\n",
    "# )\n",
    "\n",
    "# chain.run(chunks)"
   ]
  },
  {
   "cell_type": "code",
   "execution_count": 2,
   "metadata": {},
   "outputs": [
    {
     "ename": "ValidationError",
     "evalue": "1 validation error for LLMChain\ncallbacks\n  extra fields not permitted (type=value_error.extra)",
     "output_type": "error",
     "traceback": [
      "\u001b[0;31m---------------------------------------------------------------------------\u001b[0m",
      "\u001b[0;31mValidationError\u001b[0m                           Traceback (most recent call last)",
      "Cell \u001b[0;32mIn[2], line 11\u001b[0m\n\u001b[1;32m      8\u001b[0m prompt \u001b[39m=\u001b[39m PromptTemplate\u001b[39m.\u001b[39mfrom_template(\u001b[39m\"\u001b[39m\u001b[39m1 + \u001b[39m\u001b[39m{number}\u001b[39;00m\u001b[39m = \u001b[39m\u001b[39m\"\u001b[39m)\n\u001b[1;32m     10\u001b[0m \u001b[39m# First, let's explicitly set the StdOutCallbackHandler in `callbacks`\u001b[39;00m\n\u001b[0;32m---> 11\u001b[0m chain \u001b[39m=\u001b[39m LLMChain(llm\u001b[39m=\u001b[39;49mllm, prompt\u001b[39m=\u001b[39;49mprompt, callbacks\u001b[39m=\u001b[39;49m[handler])\n\u001b[1;32m     12\u001b[0m chain\u001b[39m.\u001b[39mrun(number\u001b[39m=\u001b[39m\u001b[39m2\u001b[39m)\n\u001b[1;32m     14\u001b[0m \u001b[39m# Then, let's use the `verbose` flag to achieve the same result\u001b[39;00m\n\u001b[1;32m     15\u001b[0m \u001b[39m# chain = LLMChain(llm=llm, prompt=prompt, verbose=True)\u001b[39;00m\n\u001b[1;32m     16\u001b[0m \u001b[39m# chain.run(number=2)\u001b[39;00m\n\u001b[0;32m   (...)\u001b[0m\n\u001b[1;32m     19\u001b[0m \u001b[39m# chain = LLMChain(llm=llm, prompt=prompt)\u001b[39;00m\n\u001b[1;32m     20\u001b[0m \u001b[39m# chain.run(number=2, callbacks=[handler])\u001b[39;00m\n",
      "File \u001b[0;32m~/miniconda/envs/langchain/lib/python3.11/site-packages/pydantic/main.py:341\u001b[0m, in \u001b[0;36mpydantic.main.BaseModel.__init__\u001b[0;34m()\u001b[0m\n",
      "\u001b[0;31mValidationError\u001b[0m: 1 validation error for LLMChain\ncallbacks\n  extra fields not permitted (type=value_error.extra)"
     ]
    }
   ],
   "source": [
    "from langchain.callbacks import StdOutCallbackHandler\n",
    "from langchain.chains import LLMChain\n",
    "from langchain.llms import OpenAI\n",
    "from langchain.prompts import PromptTemplate\n",
    "\n",
    "handler = StdOutCallbackHandler()\n",
    "llm = OpenAI()\n",
    "prompt = PromptTemplate.from_template(\"1 + {number} = \")\n",
    "\n",
    "# First, let's explicitly set the StdOutCallbackHandler in `callbacks`\n",
    "chain = LLMChain(llm=llm, prompt=prompt, callbacks=[handler])\n",
    "chain.run(number=2)\n",
    "\n",
    "# Then, let's use the `verbose` flag to achieve the same result\n",
    "# chain = LLMChain(llm=llm, prompt=prompt, verbose=True)\n",
    "# chain.run(number=2)\n",
    "\n",
    "# # Finally, let's use the request `callbacks` to achieve the same result\n",
    "# chain = LLMChain(llm=llm, prompt=prompt)\n",
    "# chain.run(number=2, callbacks=[handler])"
   ]
  },
  {
   "cell_type": "code",
   "execution_count": 1,
   "metadata": {},
   "outputs": [],
   "source": [
    "from langchain.chat_models import ChatOpenAI\n",
    "from agent.prompt_templates import final_prompt_test_jd_extraction\n",
    "import dotenv\n",
    "dotenv.load_dotenv()\n",
    "from agent.callbacks import StreamLLMCallbackHandler\n",
    "\n",
    "\n",
    "class StTextManager:\n",
    "    '''\n",
    "    singleton class to manage text in streamlit\n",
    "    '''\n",
    "\n",
    "    def __init__(self):\n",
    "        self.text = \"starter\"\n",
    "\n",
    "    def insert(self, text: str):\n",
    "        self.text += text\n",
    "        print(self.text, flush=True)\n",
    "\n",
    "    def get_text(self):\n",
    "        return self.text\n",
    "\n",
    "    def clear(self):\n",
    "        self.text = \"\"\n",
    "text_manager = StTextManager()\n",
    "\n"
   ]
  },
  {
   "cell_type": "code",
   "execution_count": 3,
   "metadata": {},
   "outputs": [],
   "source": [
    "llm =  ChatOpenAI(temperature=0.9, max_tokens=400, model_name=\"gpt-3.5-turbo\",)"
   ]
  },
  {
   "cell_type": "code",
   "execution_count": 5,
   "metadata": {},
   "outputs": [
    {
     "data": {
      "text/plain": [
       "'\\n    Start of the job description: \\n\\n    About the job\\nAre you a driven problem solver looking to help our clients tackle some of the most pressing challenges within Government and Public Services (GPS). Join Deloitte\\'s Program Integrity practice to help government agencies protect taxpayer money. To address the threats that perpetuate fraud, waste, and abuse, our clients look to our team to provide the guidance and solutions required to help them stay ahead of emerging issues and protect the integrity of their programs. If you are looking for a rapidly growing, collaborative environment with opportunities to make an impact and grow, our Program Integrity team would be a great fit for you!\\n\\nWork you\\'ll do\\n\\nOur team detects situations of fraud, waste, and abuse through reviewing claims. the ML Ops Engineer will be responsible for learning and implementing new infrastructure.\\n\\nThe team\\n\\nDeloitte\\'s Government and Public Services (GPS) practice - our people, ideas, technology and outcomes-is designed for impact. Serving federal, state, & local government clients as well as public higher education institutions, our team of over 15,000+ professionals brings fresh perspective to help clients anticipate disruption, reimagine the possible, and fulfill their mission promise.\\n\\nWe bring a rigorous approach to help government agencies effectively detect, prevent, and respond to issues related to fraud, waste, and abuse. Our team helps tackle these threats by bringing cutting edge analytics and AI experience with innovative mindsets. Our Program Integrity team focuses on thought diversity and collaborative problem solving to help clients address these challenges holistically, with a common goal to protect the integrity of their programs.\\n\\nQualifications\\n\\nRequired:\\nBachelor\\'s Degree in Economics, Finance, Statistics, Mathematics, Computer Science, Management Information Systems, Engineering, Business Analytics disciplines, or related area\\n4-6 Years minimum / no location constraint\\n2+ years of experience working in a Data Science/Machine Learning Engineering role.\\nProficient in Python, Spark (Pyspark), and SQL\\nExperience deploying and configuring applications in Kubernetes\\nExperience automating cloud resource deployment in Terraform. Comfortable operating in a Linux environment.\\nExperience developing production applications with Big Data, with tools like Spark, Hive, and Hadoop.\\nExperience building model training pipelines in the cloud.\\nExperience deploying ML services and applications to at least one major cloud platform (AWS, Azure, GCP, IBM Cloud)\\nProficient in software design patterns (e.g. understand object-oriented vs functional programming principals, inheritance, writing abstract, reusable, and modular code)\\nExperience building and deploying microservices as part of Machine Learning/Data Science applications.\\nExperience with building continuous integration and delivery pipelines for Machine Learning applications.\\nPreferred:\\nExperience with at least one deep learning framework (e.g., TensorFlow, PyTorch, Caffe, MxNET)\\nExperience developing with AWS managed services such as EMR.\\nExperience orchestrating the deployment and management of predictive models in a cloud environment.\\nExperience working in an AGILE development team.\\nThe wage range for this role takes into account the wide range of factors that are considered in making compensation decisions including but not limited to skill sets; experience and training; licensure and certifications; and other business and organizational needs. The disclosed range estimate has not been adjusted for the applicable geographic differential associated with the location at which the position may be filled. At Deloitte, it is not typical for an individual to be hired at or near the top of the range for their role and compensation decisions are dependent on the facts and circumstances of each case. A reasonable estimate of the current range is $66,049-$143,556.\\n\\nYou may also be eligible to participate in a discretionary annual incentive program, subject to the rules governing the program, whereby an award, if any, depends on various factors, including, without limitation, individual and organizational performance.\\n\\n\\n    end of the job description.\\n\\n    for the JD above, extract following information:\\n\\n    position: title of the Job\\n    tech_stacks: technical experience of certain type of technology, programming language, frameworks required for preferred in the job\\n    soft_skills: soft skills required for preferred in the job\\n    other_properties: other relevant properties of the potential candidate required for preferred in the job\\n\\n    return the info above in key-value pair\\n    {\\n        \"position\": ...,\\n        \"tech_stacks\": [...],\\n        \"soft_skills\": [...],\\n        \"other_properties\": [...]\\n    }\\n    ```\\n    do not return any other information, and do not return any other format, it needs to be valid json.\\n    '"
      ]
     },
     "execution_count": 5,
     "metadata": {},
     "output_type": "execute_result"
    }
   ],
   "source": [
    "final_prompt_test_jd_extraction"
   ]
  },
  {
   "cell_type": "code",
   "execution_count": 4,
   "metadata": {},
   "outputs": [
    {
     "ename": "ValueError",
     "evalue": "Got unsupported message type: \n",
     "output_type": "error",
     "traceback": [
      "\u001b[0;31m---------------------------------------------------------------------------\u001b[0m",
      "\u001b[0;31mValueError\u001b[0m                                Traceback (most recent call last)",
      "Cell \u001b[0;32mIn[4], line 1\u001b[0m\n\u001b[0;32m----> 1\u001b[0m llm(final_prompt_test_jd_extraction)\n",
      "File \u001b[0;32m~/miniconda/envs/langchain/lib/python3.11/site-packages/langchain/chat_models/base.py:175\u001b[0m, in \u001b[0;36mBaseChatModel.__call__\u001b[0;34m(self, messages, stop, callbacks)\u001b[0m\n\u001b[1;32m    169\u001b[0m \u001b[39mdef\u001b[39;00m \u001b[39m__call__\u001b[39m(\n\u001b[1;32m    170\u001b[0m     \u001b[39mself\u001b[39m,\n\u001b[1;32m    171\u001b[0m     messages: List[BaseMessage],\n\u001b[1;32m    172\u001b[0m     stop: Optional[List[\u001b[39mstr\u001b[39m]] \u001b[39m=\u001b[39m \u001b[39mNone\u001b[39;00m,\n\u001b[1;32m    173\u001b[0m     callbacks: Callbacks \u001b[39m=\u001b[39m \u001b[39mNone\u001b[39;00m,\n\u001b[1;32m    174\u001b[0m ) \u001b[39m-\u001b[39m\u001b[39m>\u001b[39m BaseMessage:\n\u001b[0;32m--> 175\u001b[0m     generation \u001b[39m=\u001b[39m \u001b[39mself\u001b[39;49m\u001b[39m.\u001b[39;49mgenerate(\n\u001b[1;32m    176\u001b[0m         [messages], stop\u001b[39m=\u001b[39;49mstop, callbacks\u001b[39m=\u001b[39;49mcallbacks\n\u001b[1;32m    177\u001b[0m     )\u001b[39m.\u001b[39mgenerations[\u001b[39m0\u001b[39m][\u001b[39m0\u001b[39m]\n\u001b[1;32m    178\u001b[0m     \u001b[39mif\u001b[39;00m \u001b[39misinstance\u001b[39m(generation, ChatGeneration):\n\u001b[1;32m    179\u001b[0m         \u001b[39mreturn\u001b[39;00m generation\u001b[39m.\u001b[39mmessage\n",
      "File \u001b[0;32m~/miniconda/envs/langchain/lib/python3.11/site-packages/langchain/chat_models/base.py:72\u001b[0m, in \u001b[0;36mBaseChatModel.generate\u001b[0;34m(self, messages, stop, callbacks)\u001b[0m\n\u001b[1;32m     67\u001b[0m \u001b[39m\u001b[39m\u001b[39m\"\"\"Top Level call\"\"\"\u001b[39;00m\n\u001b[1;32m     69\u001b[0m callback_manager \u001b[39m=\u001b[39m CallbackManager\u001b[39m.\u001b[39mconfigure(\n\u001b[1;32m     70\u001b[0m     callbacks, \u001b[39mself\u001b[39m\u001b[39m.\u001b[39mcallbacks, \u001b[39mself\u001b[39m\u001b[39m.\u001b[39mverbose\n\u001b[1;32m     71\u001b[0m )\n\u001b[0;32m---> 72\u001b[0m message_strings \u001b[39m=\u001b[39m [get_buffer_string(m) \u001b[39mfor\u001b[39;49;00m m \u001b[39min\u001b[39;49;00m messages]\n\u001b[1;32m     73\u001b[0m run_manager \u001b[39m=\u001b[39m callback_manager\u001b[39m.\u001b[39mon_llm_start(\n\u001b[1;32m     74\u001b[0m     {\u001b[39m\"\u001b[39m\u001b[39mname\u001b[39m\u001b[39m\"\u001b[39m: \u001b[39mself\u001b[39m\u001b[39m.\u001b[39m\u001b[39m__class__\u001b[39m\u001b[39m.\u001b[39m\u001b[39m__name__\u001b[39m}, message_strings\n\u001b[1;32m     75\u001b[0m )\n\u001b[1;32m     77\u001b[0m new_arg_supported \u001b[39m=\u001b[39m inspect\u001b[39m.\u001b[39msignature(\u001b[39mself\u001b[39m\u001b[39m.\u001b[39m_generate)\u001b[39m.\u001b[39mparameters\u001b[39m.\u001b[39mget(\n\u001b[1;32m     78\u001b[0m     \u001b[39m\"\u001b[39m\u001b[39mrun_manager\u001b[39m\u001b[39m\"\u001b[39m\n\u001b[1;32m     79\u001b[0m )\n",
      "File \u001b[0;32m~/miniconda/envs/langchain/lib/python3.11/site-packages/langchain/chat_models/base.py:72\u001b[0m, in \u001b[0;36m<listcomp>\u001b[0;34m(.0)\u001b[0m\n\u001b[1;32m     67\u001b[0m \u001b[39m\u001b[39m\u001b[39m\"\"\"Top Level call\"\"\"\u001b[39;00m\n\u001b[1;32m     69\u001b[0m callback_manager \u001b[39m=\u001b[39m CallbackManager\u001b[39m.\u001b[39mconfigure(\n\u001b[1;32m     70\u001b[0m     callbacks, \u001b[39mself\u001b[39m\u001b[39m.\u001b[39mcallbacks, \u001b[39mself\u001b[39m\u001b[39m.\u001b[39mverbose\n\u001b[1;32m     71\u001b[0m )\n\u001b[0;32m---> 72\u001b[0m message_strings \u001b[39m=\u001b[39m [get_buffer_string(m) \u001b[39mfor\u001b[39;00m m \u001b[39min\u001b[39;00m messages]\n\u001b[1;32m     73\u001b[0m run_manager \u001b[39m=\u001b[39m callback_manager\u001b[39m.\u001b[39mon_llm_start(\n\u001b[1;32m     74\u001b[0m     {\u001b[39m\"\u001b[39m\u001b[39mname\u001b[39m\u001b[39m\"\u001b[39m: \u001b[39mself\u001b[39m\u001b[39m.\u001b[39m\u001b[39m__class__\u001b[39m\u001b[39m.\u001b[39m\u001b[39m__name__\u001b[39m}, message_strings\n\u001b[1;32m     75\u001b[0m )\n\u001b[1;32m     77\u001b[0m new_arg_supported \u001b[39m=\u001b[39m inspect\u001b[39m.\u001b[39msignature(\u001b[39mself\u001b[39m\u001b[39m.\u001b[39m_generate)\u001b[39m.\u001b[39mparameters\u001b[39m.\u001b[39mget(\n\u001b[1;32m     78\u001b[0m     \u001b[39m\"\u001b[39m\u001b[39mrun_manager\u001b[39m\u001b[39m\"\u001b[39m\n\u001b[1;32m     79\u001b[0m )\n",
      "File \u001b[0;32m~/miniconda/envs/langchain/lib/python3.11/site-packages/langchain/schema.py:35\u001b[0m, in \u001b[0;36mget_buffer_string\u001b[0;34m(messages, human_prefix, ai_prefix)\u001b[0m\n\u001b[1;32m     33\u001b[0m         role \u001b[39m=\u001b[39m m\u001b[39m.\u001b[39mrole\n\u001b[1;32m     34\u001b[0m     \u001b[39melse\u001b[39;00m:\n\u001b[0;32m---> 35\u001b[0m         \u001b[39mraise\u001b[39;00m \u001b[39mValueError\u001b[39;00m(\u001b[39mf\u001b[39m\u001b[39m\"\u001b[39m\u001b[39mGot unsupported message type: \u001b[39m\u001b[39m{\u001b[39;00mm\u001b[39m}\u001b[39;00m\u001b[39m\"\u001b[39m)\n\u001b[1;32m     36\u001b[0m     string_messages\u001b[39m.\u001b[39mappend(\u001b[39mf\u001b[39m\u001b[39m\"\u001b[39m\u001b[39m{\u001b[39;00mrole\u001b[39m}\u001b[39;00m\u001b[39m: \u001b[39m\u001b[39m{\u001b[39;00mm\u001b[39m.\u001b[39mcontent\u001b[39m}\u001b[39;00m\u001b[39m\"\u001b[39m)\n\u001b[1;32m     37\u001b[0m \u001b[39mreturn\u001b[39;00m \u001b[39m\"\u001b[39m\u001b[39m\\n\u001b[39;00m\u001b[39m\"\u001b[39m\u001b[39m.\u001b[39mjoin(string_messages)\n",
      "\u001b[0;31mValueError\u001b[0m: Got unsupported message type: \n"
     ]
    }
   ],
   "source": [
    "\n",
    "llm(final_prompt_test_jd_extraction)"
   ]
  },
  {
   "cell_type": "code",
   "execution_count": 6,
   "metadata": {},
   "outputs": [
    {
     "name": "stderr",
     "output_type": "stream",
     "text": [
      "2023-05-14 16:23:37.879 \n",
      "  \u001b[33m\u001b[1mWarning:\u001b[0m to view this Streamlit app on a browser, run it with the following\n",
      "  command:\n",
      "\n",
      "    streamlit run /Users/Ben/miniconda/envs/langchain/lib/python3.11/site-packages/ipykernel_launcher.py [ARGUMENTS]\n"
     ]
    }
   ],
   "source": [
    "import streamlit as st\n",
    "import time\n",
    "\n",
    "with st.empty():\n",
    "    for seconds in range(60):\n",
    "        st.write(f\"⏳ {seconds} seconds have passed\")\n",
    "        time.sleep(1)\n",
    "    st.write(\"✔️ 1 minute over!\")"
   ]
  },
  {
   "cell_type": "code",
   "execution_count": null,
   "metadata": {},
   "outputs": [],
   "source": []
  }
 ],
 "metadata": {
  "kernelspec": {
   "display_name": "langchain",
   "language": "python",
   "name": "python3"
  },
  "language_info": {
   "codemirror_mode": {
    "name": "ipython",
    "version": 3
   },
   "file_extension": ".py",
   "mimetype": "text/x-python",
   "name": "python",
   "nbconvert_exporter": "python",
   "pygments_lexer": "ipython3",
   "version": "3.11.2"
  },
  "orig_nbformat": 4
 },
 "nbformat": 4,
 "nbformat_minor": 2
}
